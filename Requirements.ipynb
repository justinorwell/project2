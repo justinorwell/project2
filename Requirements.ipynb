{
 "cells": [
  {
   "cell_type": "markdown",
   "metadata": {},
   "source": [
    "# Predicting Land Use and Cover for Nigeria\n",
    "\n",
    "This notebook shows how to build a machine learning pipeline for predicting the land use and land cover for Nigeria. Here, Satelite immages are sourced from ESA's Sentinel-2 to train a model and use it for prediction. The notebook takes you through the whole process one step at a time.\n",
    "\n",
    "### Pre-requisites\n",
    "\n",
    "In order to run the example you'll need a Sentinel Hub account. If you do not have one yet, you can create a free trial account at [Sentinel Hub webpage](https://services.sentinel-hub.com/oauth/subscription). If you are a researcher you can even apply for a free non-commercial account at [ESA OSEO page](https://earth.esa.int/aos/OSEO).\n",
    "\n",
    "Once you have the account set up, login to [Sentinel Hub Configurator](https://apps.sentinel-hub.com/configurator/). By default you will already have the default configuration with an **instance ID** (alpha-numeric code of length 36). For this tutorial we recommend that you create a new configuration (`\"Add new configuration\"`) and set the configuration to be based on **Python scripts template**. Such configuration will already contain all layers used in these examples. Otherwise you will have to define the layers for your configuration yourself.\n",
    "\n",
    "After you have prepared a configuration please put configuration's **instance ID** into `sentinelhub` package's configuration file following the [configuration instructions](http://sentinelhub-py.readthedocs.io/en/latest/configure.html).\n",
    "\n",
    "#### Stage 1\n",
    "\n",
    "1. Define the Area-of-Interest (AOI):\n",
    "   * Download outline of Nigeria map\n",
    "   * Split the map into EOPatches\n",
    "   * Pick a small outline of the map for classification\n",
    "2. Extract content such as cloud masks and band data from [sentinelhub-py](https://github.com/sentinel-hub/sentinelhub-py) package into the EOPatches\n",
    "   * Specifiy time interval e.g. over one year, two years, etc.\n",
    "3. Include additional band information e.g. norm. vegetation index - NDVI, norm. water index - NDWI, etc.\n",
    "4. Include a reference map\n",
    "   * Convert provided vector data to raster and add it to EOPatches\n",
    "   \n",
    "#### Stage 2:\n",
    "\n",
    "5. Prepare the training data\n",
    "   * Filter out cloudy scenes\n",
    "   * Perform resampling to similar dates (filling gaps and resampling to the same dates)\n",
    "   * Apply erosion \n",
    "   * Perform Random spatial sampling of the EOPatches\n",
    "   * Split patches for training/validation\n",
    "6. Construct and train the ML model\n",
    "   * Make the prediction for each patch \n",
    "7. Validate the model\n",
    "8. Visualise the results\n",
    "\n",
    "The cells below provides the code for each step in Stages 1 and 2. Have fun!"
   ]
  }
 ],
 "metadata": {
  "kernelspec": {
   "display_name": "Python 3",
   "language": "python",
   "name": "python3"
  },
  "language_info": {
   "codemirror_mode": {
    "name": "ipython",
    "version": 3
   },
   "file_extension": ".py",
   "mimetype": "text/x-python",
   "name": "python",
   "nbconvert_exporter": "python",
   "pygments_lexer": "ipython3",
   "version": "3.7.0"
  }
 },
 "nbformat": 4,
 "nbformat_minor": 2
}
